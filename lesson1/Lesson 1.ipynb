{
 "cells": [
  {
   "cell_type": "markdown",
   "metadata": {},
   "source": [
    "# Welcome!\n",
    "\n",
    "Hello, and welcome to the internal Python course!"
   ]
  },
  {
   "cell_type": "markdown",
   "metadata": {},
   "source": [
    "## Course Content\n",
    "\n",
    "- **Lesson 1**: basic variables, collections, and functions\n",
    "- **Lesson 2**: classes\n",
    "- **Lesson 3**:\n",
    "- **Lesson 4**:\n",
    "- **Lesson 5**:\n",
    "- **Lesson 6**:"
   ]
  },
  {
   "cell_type": "markdown",
   "metadata": {},
   "source": [
    "### Lesson 1\n",
    "\n",
    "- Basic variables\n",
    "    - Strings\n",
    "        - raw strings\n",
    "        - fstrings\n",
    "    - Ints\n",
    "    - Floats\n",
    "    - Booleans\n",
    "- Collections\n",
    "    - Lists\n",
    "    - Tuples\n",
    "        - Zipping\n",
    "        - Unpacking\n",
    "    - Dictionaries\n",
    "    - Sets\n",
    "- Introduction to Variables as Objects\n",
    "- Introduction to Methods\n",
    "- Fun with Copying\n",
    "- Comprehensions\n",
    "- Fancy Collections\n",
    "    - OrderedDict\n",
    "    - FrozenDict\n",
    "    - Queue\n",
    "    - Dequeue\n",
    "\n",
    "- Functions\n",
    "    - Creating a function\n",
    "    - Getting things out of functions\n",
    "    - Default values\n",
    "    - kwargs\n",
    "    - * & **\n",
    "    - Error handling\n",
    "    - Recursive functions\n",
    "    - Importing functions\n",
    "    - Functions as 'first class objects'\n",
    "    - Generator function   "
   ]
  },
  {
   "cell_type": "markdown",
   "metadata": {},
   "source": [
    "### Basic Variables"
   ]
  },
  {
   "cell_type": "markdown",
   "metadata": {},
   "source": [
    "#### Strings"
   ]
  },
  {
   "cell_type": "markdown",
   "metadata": {},
   "source": [
    "Put whatever you like in a set of quotes (single ('), or double (\")), and there you have it, a string!"
   ]
  },
  {
   "cell_type": "code",
   "execution_count": 2,
   "metadata": {},
   "outputs": [],
   "source": [
    "example_string = 'hello, World!'"
   ]
  },
  {
   "cell_type": "markdown",
   "metadata": {},
   "source": [
    "If you type this into an interpreter, you can then type the variable name in again and hit return, and you can see what you put in, and how Python has interpretted it."
   ]
  },
  {
   "cell_type": "code",
   "execution_count": 3,
   "metadata": {},
   "outputs": [
    {
     "data": {
      "text/plain": [
       "'hello, World!'"
      ]
     },
     "execution_count": 3,
     "metadata": {},
     "output_type": "execute_result"
    }
   ],
   "source": [
    "example_string"
   ]
  },
  {
   "cell_type": "code",
   "execution_count": null,
   "metadata": {},
   "outputs": [],
   "source": []
  },
  {
   "cell_type": "markdown",
   "metadata": {},
   "source": [
    "Written and designed by Oliver Dawkins and [Joseph Beaver](https://github.com/gebimble)"
   ]
  },
  {
   "cell_type": "code",
   "execution_count": null,
   "metadata": {},
   "outputs": [],
   "source": []
  }
 ],
 "metadata": {
  "kernelspec": {
   "display_name": "Python 3",
   "language": "python",
   "name": "python3"
  },
  "language_info": {
   "codemirror_mode": {
    "name": "ipython",
    "version": 3
   },
   "file_extension": ".py",
   "mimetype": "text/x-python",
   "name": "python",
   "nbconvert_exporter": "python",
   "pygments_lexer": "ipython3",
   "version": "3.6.5"
  }
 },
 "nbformat": 4,
 "nbformat_minor": 2
}
