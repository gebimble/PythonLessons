{
 "cells": [
  {
   "cell_type": "markdown",
   "metadata": {},
   "source": [
    "# Welcome!\n",
    "\n",
    "Hello, and welcome to the internal Python course!"
   ]
  },
  {
   "cell_type": "markdown",
   "metadata": {},
   "source": [
    "## Course Content\n",
    "\n",
    "- **Lesson 1**: basic variables, collections, and functions\n",
    "- **Lesson 2**: classes\n",
    "- **Lesson 3**:\n",
    "- **Lesson 4**:\n",
    "- **Lesson 5**:\n",
    "- **Lesson 6**:"
   ]
  },
  {
   "cell_type": "markdown",
   "metadata": {},
   "source": [
    "### Lesson 1\n",
    "\n",
    "- Basic variables\n",
    "    - Strings\n",
    "        - raw strings\n",
    "        - fstrings\n",
    "    - Ints\n",
    "    - Floats\n",
    "    - Booleans\n",
    "- Collections\n",
    "    - Lists\n",
    "    - Tuples\n",
    "        - Zipping\n",
    "        - Unpacking\n",
    "    - Dictionaries\n",
    "    - Sets\n",
    "- Introduction to Variables as Objects\n",
    "- Introduction to Methods\n",
    "- Fun with Copying\n",
    "- Comprehensions\n",
    "- Fancy Collections\n",
    "    - OrderedDict\n",
    "    - FrozenDict\n",
    "    - Queue\n",
    "    - Dequeue\n",
    "\n",
    "- Functions\n",
    "    - Creating a function\n",
    "    - Getting things out of functions\n",
    "    - Default values\n",
    "    - kwargs\n",
    "    - * & **\n",
    "    - Error handling\n",
    "    - Recursive functions\n",
    "    - Importing functions\n",
    "    - Functions as 'first class objects'\n",
    "    - Generator function   "
   ]
  },
  {
   "cell_type": "markdown",
   "metadata": {},
   "source": [
    "### Basic Variables"
   ]
  },
  {
   "cell_type": "markdown",
   "metadata": {},
   "source": [
    "#### Strings"
   ]
  },
  {
   "cell_type": "markdown",
   "metadata": {},
   "source": [
    "Put whatever you like in a set of quotes (single ('), or double (\")), and there you have it, a string!"
   ]
  },
  {
   "cell_type": "code",
   "execution_count": 22,
   "metadata": {},
   "outputs": [],
   "source": [
    "example_string = 'hello, World!'"
   ]
  },
  {
   "cell_type": "markdown",
   "metadata": {},
   "source": [
    "If you type this into an interpreter, you can then type the variable name in again and hit return, and you can see what you put in, and how Python has interpretted it."
   ]
  },
  {
   "cell_type": "code",
   "execution_count": 3,
   "metadata": {},
   "outputs": [
    {
     "data": {
      "text/plain": [
       "'hello, World!'"
      ]
     },
     "execution_count": 3,
     "metadata": {},
     "output_type": "execute_result"
    }
   ],
   "source": [
    "example_string"
   ]
  },
  {
   "cell_type": "markdown",
   "metadata": {},
   "source": [
    "You may have come across the idea of an escape character before. If you haven't, let's take a step back before talking about escape characters, and instead talk about special characters.\n",
    "\n",
    "There are a few special characters that you can put inside strings, and they will be _interpretted_ instead of stored as they appear. Take a second and think about the difficulty that you might find in trying to put a single quote inside of a string. Let's try it:"
   ]
  },
  {
   "cell_type": "code",
   "execution_count": 1,
   "metadata": {},
   "outputs": [
    {
     "ename": "SyntaxError",
     "evalue": "invalid syntax (<ipython-input-1-ddaee953d715>, line 1)",
     "output_type": "error",
     "traceback": [
      "\u001b[0;36m  File \u001b[0;32m\"<ipython-input-1-ddaee953d715>\"\u001b[0;36m, line \u001b[0;32m1\u001b[0m\n\u001b[0;31m    example_quote_attempt = 'what're you doing?'\u001b[0m\n\u001b[0m                                   ^\u001b[0m\n\u001b[0;31mSyntaxError\u001b[0m\u001b[0;31m:\u001b[0m invalid syntax\n"
     ]
    }
   ],
   "source": [
    "example_quote_attempt = 'what're you doing?'"
   ]
  },
  {
   "cell_type": "markdown",
   "metadata": {},
   "source": [
    "What you've tried to do seems sensible, but Python has interpretted the single quote in \"what're\" to mean that you've reached the end of your string sequence. There are two ways around this:\n",
    "\n",
    "1. if you want to put an apostrophe in your string sequence, use double quotes at the start and end instead\n",
    "2. use an escape character\n",
    "\n",
    "Let me just show you two, seeing as that's the point I'm trying to demonstrate. The escape character in Python is a backslash (\\), and you just need to put it in front of the character you're trying to 'escape', like this:"
   ]
  },
  {
   "cell_type": "code",
   "execution_count": 11,
   "metadata": {},
   "outputs": [
    {
     "data": {
      "text/plain": [
       "\"What're you doing?\""
      ]
     },
     "execution_count": 11,
     "metadata": {},
     "output_type": "execute_result"
    }
   ],
   "source": [
    "example_quote_attempt_2 = 'What\\'re you doing?'\n",
    "example_quote_attempt_2"
   ]
  },
  {
   "cell_type": "markdown",
   "metadata": {},
   "source": [
    "Now, what you're seeing there is the interpretted Python code in the Out statement. Let's see what it looks like when you print it:"
   ]
  },
  {
   "cell_type": "code",
   "execution_count": 14,
   "metadata": {},
   "outputs": [
    {
     "name": "stdout",
     "output_type": "stream",
     "text": [
      "What're you doing?\n"
     ]
    }
   ],
   "source": [
    "print(example_quote_attempt_2)"
   ]
  },
  {
   "cell_type": "markdown",
   "metadata": {},
   "source": [
    "Just the same! Magic :) \n",
    "\n",
    "But what's a 'raw' string? It's basically just a string that's taken at face value, without interprettation. Like this:"
   ]
  },
  {
   "cell_type": "code",
   "execution_count": 15,
   "metadata": {},
   "outputs": [
    {
     "data": {
      "text/plain": [
       "'C:\\\\Windows'"
      ]
     },
     "execution_count": 15,
     "metadata": {},
     "output_type": "execute_result"
    }
   ],
   "source": [
    "raw_string_example = r'C:\\Windows'\n",
    "raw_string_example"
   ]
  },
  {
   "cell_type": "markdown",
   "metadata": {},
   "source": [
    "Woah woah woah! What's happened here? Python has put in an extra backslash, for some reason? Once again, you're just seeing the interpretted Python code in that Out statement. Let's print it:"
   ]
  },
  {
   "cell_type": "code",
   "execution_count": 16,
   "metadata": {},
   "outputs": [
    {
     "name": "stdout",
     "output_type": "stream",
     "text": [
      "C:\\Windows\n"
     ]
    }
   ],
   "source": [
    "print(raw_string_example)"
   ]
  },
  {
   "cell_type": "markdown",
   "metadata": {},
   "source": [
    "You get out what you put in. Marvellous :)\n",
    "\n",
    "So, fstrings then? Well, that's a new thing in Python 3.6. And it's _flipping amazing_. It's most often, and most sensibly, used in printing. You put an 'f' before your quotes, and then you can put variable names _directly in_ the string, and, when you print it, you get the values in those variables out. Like this:"
   ]
  },
  {
   "cell_type": "code",
   "execution_count": 19,
   "metadata": {},
   "outputs": [
    {
     "name": "stdout",
     "output_type": "stream",
     "text": [
      "I'd like 5 bananas, please.\n"
     ]
    }
   ],
   "source": [
    "quantity = 5\n",
    "fruit_type = 'bananas'\n",
    "\n",
    "print(f'I\\'d like {quantity} {fruit_type}, please.')"
   ]
  },
  {
   "cell_type": "markdown",
   "metadata": {},
   "source": [
    "How cool is that! There are others ways you can do printing, using formatting statements and whatnot, but we'll get there later.\n",
    "\n",
    "Just a few things left for strings. Let's introduce you to _methods_ real quick.\n",
    "\n",
    "A method is a function that's tied to an object. If that doesn't make sense, don't worry about it right now. Basically it just means that all strings come with some in-built manipulations that you can do, if you want. Like this:"
   ]
  },
  {
   "cell_type": "code",
   "execution_count": 21,
   "metadata": {},
   "outputs": [
    {
     "name": "stdout",
     "output_type": "stream",
     "text": [
      "what're you doing?\n",
      "What'Re You Doing?\n",
      "WHAT'RE YOU DOING?\n"
     ]
    }
   ],
   "source": [
    "print(example_quote_attempt_2.lower())\n",
    "print(example_quote_attempt_2.title())\n",
    "print(example_quote_attempt_2.upper())"
   ]
  },
  {
   "cell_type": "markdown",
   "metadata": {},
   "source": [
    "But there are also more useful things you can do, like find the locations of things in the string, or replace parts of it:"
   ]
  },
  {
   "cell_type": "code",
   "execution_count": 24,
   "metadata": {},
   "outputs": [
    {
     "name": "stdout",
     "output_type": "stream",
     "text": [
      "hello, doggo!\n"
     ]
    }
   ],
   "source": [
    "print(example_string.replace('World', 'doggo'))"
   ]
  },
  {
   "cell_type": "markdown",
   "metadata": {},
   "source": [
    "This doesn't fundamentally alters the underlying string though, it temporarily creates a new one:"
   ]
  },
  {
   "cell_type": "code",
   "execution_count": 26,
   "metadata": {},
   "outputs": [
    {
     "data": {
      "text/plain": [
       "'hello, World!'"
      ]
     },
     "execution_count": 26,
     "metadata": {},
     "output_type": "execute_result"
    }
   ],
   "source": [
    "example_string"
   ]
  },
  {
   "cell_type": "markdown",
   "metadata": {},
   "source": [
    "See? No harm done.\n",
    "\n",
    "These methods are a fundamental feature of Python, and you'll be seeing a lot more of them in the future! Anyway, on to the next basic type:\n",
    "\n",
    "#### Ints\n",
    "\n",
    "Pretty easy. They're just integer numbers. They encompass negative values too:"
   ]
  },
  {
   "cell_type": "code",
   "execution_count": 28,
   "metadata": {},
   "outputs": [
    {
     "name": "stdout",
     "output_type": "stream",
     "text": [
      "The variable 'a' is a <class 'int'>\n",
      "The variable 'a' is a <class 'int'>\n"
     ]
    }
   ],
   "source": [
    "a = 5\n",
    "b = -5\n",
    "print(f'The variable \\'a\\' is a {type(a)}')\n",
    "print(f'The variable \\'a\\' is a {type(b)}')"
   ]
  },
  {
   "cell_type": "code",
   "execution_count": null,
   "metadata": {},
   "outputs": [],
   "source": []
  },
  {
   "cell_type": "markdown",
   "metadata": {},
   "source": [
    "Written and designed by Oliver Dawkins and [Joseph Beaver](https://github.com/gebimble)"
   ]
  }
 ],
 "metadata": {
  "kernelspec": {
   "display_name": "Python 3",
   "language": "python",
   "name": "python3"
  },
  "language_info": {
   "codemirror_mode": {
    "name": "ipython",
    "version": 3
   },
   "file_extension": ".py",
   "mimetype": "text/x-python",
   "name": "python",
   "nbconvert_exporter": "python",
   "pygments_lexer": "ipython3",
   "version": "3.6.5"
  }
 },
 "nbformat": 4,
 "nbformat_minor": 2
}
